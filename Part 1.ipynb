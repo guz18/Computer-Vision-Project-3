{
 "cells": [
  {
   "cell_type": "markdown",
   "id": "enhanced-cabin",
   "metadata": {},
   "source": [
    "# Göksu Güz 150180715"
   ]
  },
  {
   "cell_type": "code",
   "execution_count": 25,
   "id": "competent-garden",
   "metadata": {},
   "outputs": [],
   "source": [
    "import numpy as np\n",
    "import cv2 \n",
    "from matplotlib import pyplot as plt\n",
    "import os\n",
    "import scipy.io as io\n",
    "import imageio"
   ]
  },
  {
   "cell_type": "code",
   "execution_count": 26,
   "id": "gentle-science",
   "metadata": {},
   "outputs": [],
   "source": [
    "compare1 = [] \n",
    "\n",
    "image_names = []\n",
    "\n",
    "directory = \"bsds\\\\BSDS500\\\\data\\\\images\\\\test/\"\n",
    "count = 0\n",
    "for fileName in os.listdir(directory):\n",
    "    image_names.append(fileName)\n",
    "    if(count == 200):\n",
    "        break\n",
    "        \n",
    "    imageFrom_ = directory + fileName\n",
    "    image = cv2.imread(imageFrom_, cv2.IMREAD_GRAYSCALE)\n",
    "    \n",
    "    edges = cv2.Canny(image,200,300)\n",
    "    \n",
    "    compare1.append(edges)\n",
    "    \n",
    "    path = 'resultsOfPart1/'\n",
    "    cv2.imwrite(os.path.join(path , fileName), edges)\n",
    "    \n",
    "    count += 1"
   ]
  },
  {
   "cell_type": "code",
   "execution_count": 27,
   "id": "disciplinary-athletics",
   "metadata": {},
   "outputs": [],
   "source": [
    "compare2 = []\n",
    "\n",
    "images = []\n",
    "directory = \"bsds\\\\BSDS500\\\\data\\\\groundTruth\\\\test/\"\n",
    "count = 0\n",
    "for fileName in os.listdir(directory):\n",
    "    g_truths = []\n",
    "    if(count == 200):\n",
    "        break\n",
    "        \n",
    "    matFrom_ = directory + fileName    \n",
    "    file = io.loadmat(matFrom_)\n",
    "    \n",
    "    loop_size = (file['groundTruth'][0]).shape[0]\n",
    "    \n",
    "    for i in range(loop_size):\n",
    "        \n",
    "        ground_truth_file = (file['groundTruth'][0][i][0][0][1])\n",
    "        ground_truth_file = ground_truth_file * 255\n",
    "        g_truths.append(ground_truth_file)\n",
    "    \n",
    "    temp = np.zeros((ground_truth_file.shape[0], ground_truth_file.shape[1]))\n",
    "    \n",
    "    for j in range(loop_size):\n",
    "        temp += g_truths[j]\n",
    "        \n",
    "\n",
    "    compare2.append(temp)        \n",
    "    \n",
    "    temp = np.uint8(temp)\n",
    "    imageio.imwrite(os.path.join(\"resultsOfPart1Mat/\",image_names[count]), temp)\n",
    "\n",
    "        \n",
    "    count += 1        "
   ]
  },
  {
   "cell_type": "code",
   "execution_count": 28,
   "id": "suited-sight",
   "metadata": {},
   "outputs": [
    {
     "name": "stderr",
     "output_type": "stream",
     "text": [
      "<ipython-input-28-cb6663bb4666>:3: VisibleDeprecationWarning: Creating an ndarray from ragged nested sequences (which is a list-or-tuple of lists-or-tuples-or ndarrays with different lengths or shapes) is deprecated. If you meant to do this, you must specify 'dtype=object' when creating the ndarray.\n",
      "  x = np.array(compare1)\n",
      "<ipython-input-28-cb6663bb4666>:4: VisibleDeprecationWarning: Creating an ndarray from ragged nested sequences (which is a list-or-tuple of lists-or-tuples-or ndarrays with different lengths or shapes) is deprecated. If you meant to do this, you must specify 'dtype=object' when creating the ndarray.\n",
      "  y = np.array(compare2)\n"
     ]
    }
   ],
   "source": [
    "x = compare1\n",
    "y = compare2\n",
    "x = np.array(compare1)\n",
    "y = np.array(compare2)"
   ]
  },
  {
   "cell_type": "code",
   "execution_count": 29,
   "id": "through-alignment",
   "metadata": {},
   "outputs": [],
   "source": [
    "x_1 = x/255\n",
    "y_1 = y/255"
   ]
  },
  {
   "cell_type": "code",
   "execution_count": 30,
   "id": "foreign-slave",
   "metadata": {},
   "outputs": [
    {
     "name": "stdout",
     "output_type": "stream",
     "text": [
      "average precision is :  21.40979360016215\n"
     ]
    }
   ],
   "source": [
    "average_precision = 0\n",
    "tp = 0\n",
    "fn = 0\n",
    "for z in range(200): \n",
    "    for i in range((x_1[z]).shape[0]):\n",
    "        for j in range((x_1[z]).shape[1]):\n",
    "            if(x_1[z][i][j] == 1 and y_1[z][i][j] == 1):\n",
    "                tp +=1\n",
    "            if(x_1[z][i][j] == 1 and y_1[z][i][j] == 0):\n",
    "                fn +=1\n",
    "    average_precision += (tp / (tp + fn))\n",
    "print(\"average precision is : \", average_precision)"
   ]
  },
  {
   "cell_type": "code",
   "execution_count": null,
   "id": "positive-pound",
   "metadata": {},
   "outputs": [],
   "source": []
  }
 ],
 "metadata": {
  "kernelspec": {
   "display_name": "Python 3",
   "language": "python",
   "name": "python3"
  },
  "language_info": {
   "codemirror_mode": {
    "name": "ipython",
    "version": 3
   },
   "file_extension": ".py",
   "mimetype": "text/x-python",
   "name": "python",
   "nbconvert_exporter": "python",
   "pygments_lexer": "ipython3",
   "version": "3.9.0"
  }
 },
 "nbformat": 4,
 "nbformat_minor": 5
}
