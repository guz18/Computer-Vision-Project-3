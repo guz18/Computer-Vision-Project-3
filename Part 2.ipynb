{
 "cells": [
  {
   "cell_type": "markdown",
   "id": "residential-shopper",
   "metadata": {},
   "source": [
    "# Göksu Güz 150180715"
   ]
  },
  {
   "cell_type": "code",
   "execution_count": 6,
   "id": "registered-italian",
   "metadata": {},
   "outputs": [],
   "source": [
    "import numpy as np\n",
    "import cv2 \n",
    "from matplotlib import pyplot as plt\n",
    "import os\n",
    "import scipy.io as io\n",
    "import imageio"
   ]
  },
  {
   "cell_type": "code",
   "execution_count": 7,
   "id": "continent-sweet",
   "metadata": {},
   "outputs": [],
   "source": [
    "directory = \"2. question\\\\output\\\\bsds\\\\test\\\\sing_scale_test/\"\n",
    "directory2 = \"resultsOfPart1Mat/\"\n",
    "\n",
    "compare1 = [] \n",
    "compare2 = [] \n",
    "\n",
    "count = 0\n",
    "\n",
    "for fileName in os.listdir(directory):\n",
    "    if(count == 200):\n",
    "        break\n",
    "    imageFrom_ = directory + fileName\n",
    "    image = cv2.imread(imageFrom_)\n",
    "    image = np.array(image)\n",
    "    compare1.append(image)\n",
    "    count+=1\n",
    "    \n",
    "count = 0\n",
    "    \n",
    "for fileName in os.listdir(directory2):\n",
    "    if(count == 200):\n",
    "        break\n",
    "    imageFrom_ = directory2 + fileName\n",
    "    image = cv2.imread(imageFrom_)\n",
    "    image = np.array(image)\n",
    "    compare2.append(image)\n",
    "    count+=1\n"
   ]
  },
  {
   "cell_type": "code",
   "execution_count": 8,
   "id": "elect-classics",
   "metadata": {},
   "outputs": [],
   "source": [
    "x = compare1\n",
    "y = compare2\n",
    "\n",
    "x_n = [] \n",
    "y_n = []\n",
    "\n",
    "for i in range(200):\n",
    "    ret, bw_img = cv2.threshold(x[i],127,255,cv2.THRESH_BINARY)\n",
    "    ret1, bw_img1 = cv2.threshold(y[i],127,255,cv2.THRESH_BINARY)\n",
    "    x_n.append(bw_img/255)\n",
    "    y_n.append(bw_img1/255)\n",
    "    \n",
    "average_precision = 0\n",
    "tp = 0\n",
    "fn = 0\n"
   ]
  },
  {
   "cell_type": "code",
   "execution_count": 9,
   "id": "documented-forwarding",
   "metadata": {},
   "outputs": [
    {
     "name": "stderr",
     "output_type": "stream",
     "text": [
      "<ipython-input-9-2e3d845ef6ce>:1: VisibleDeprecationWarning: Creating an ndarray from ragged nested sequences (which is a list-or-tuple of lists-or-tuples-or ndarrays with different lengths or shapes) is deprecated. If you meant to do this, you must specify 'dtype=object' when creating the ndarray.\n",
      "  x_n = np.array(x_n)\n",
      "<ipython-input-9-2e3d845ef6ce>:2: VisibleDeprecationWarning: Creating an ndarray from ragged nested sequences (which is a list-or-tuple of lists-or-tuples-or ndarrays with different lengths or shapes) is deprecated. If you meant to do this, you must specify 'dtype=object' when creating the ndarray.\n",
      "  y_n = np.array(y_n)\n"
     ]
    }
   ],
   "source": [
    "x_n = np.array(x_n)\n",
    "y_n = np.array(y_n)"
   ]
  },
  {
   "cell_type": "code",
   "execution_count": 10,
   "id": "special-photographer",
   "metadata": {},
   "outputs": [
    {
     "name": "stdout",
     "output_type": "stream",
     "text": [
      "average precision is :  83.21389483451775\n"
     ]
    }
   ],
   "source": [
    "for z in range(200): \n",
    "    for i in range((x_n[z]).shape[0]):\n",
    "        for j in range((x_n[z]).shape[1]):\n",
    "            \n",
    "            if(x_n[z][i][j][0] == 1 and y_n[z][i][j][0] == 1):\n",
    "                tp +=1\n",
    "            if(x_n[z][i][j][0] == 1 and y_n[z][i][j][0] == 0):\n",
    "                fn +=1\n",
    "    average_precision += (tp / (tp + fn))\n",
    "print(\"average precision is : \", average_precision)\n"
   ]
  },
  {
   "cell_type": "code",
   "execution_count": null,
   "id": "suspected-patent",
   "metadata": {},
   "outputs": [],
   "source": []
  }
 ],
 "metadata": {
  "kernelspec": {
   "display_name": "Python 3",
   "language": "python",
   "name": "python3"
  },
  "language_info": {
   "codemirror_mode": {
    "name": "ipython",
    "version": 3
   },
   "file_extension": ".py",
   "mimetype": "text/x-python",
   "name": "python",
   "nbconvert_exporter": "python",
   "pygments_lexer": "ipython3",
   "version": "3.9.0"
  }
 },
 "nbformat": 4,
 "nbformat_minor": 5
}
